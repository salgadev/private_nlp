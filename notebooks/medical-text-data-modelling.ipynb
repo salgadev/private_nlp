{
 "cells": [
  {
   "cell_type": "markdown",
   "metadata": {},
   "source": [
    "# Medical Text Data Modelling"
   ]
  },
  {
   "cell_type": "markdown",
   "metadata": {},
   "source": [
    "**Author:**\n",
    "- Carlos Salgado - [email](mailto:csalgado@uwo.ca) | [GitHub](https://github.com/socd06) | [LinkedIn](www.linkedin.com/in/eng-socd)"
   ]
  },
  {
   "cell_type": "markdown",
   "metadata": {},
   "source": [
    "## Problem Statement\n",
    "Bob <sup>MD</sup> and Alice <sup>MD</sup> are physicians running their respective medical practices and both have a database of private medical transcriptions. You own a Natural Language Processing (NLP) company and have been contacted by these physicians because both Bob <sup>MD</sup> and Alice <sup>MD</sup> have heard of the high quality of the Machine Learning as a Service (MLaaS) solutions you provide and want you to create a text classifier to help them automatically assign a medical specialty to each new patient text transcription."
   ]
  },
  {
   "cell_type": "markdown",
   "metadata": {},
   "source": [
    "## Limitations\n",
    "\n",
    "Healthcare data is highly regulated and should be, for most intents and purposes, private. Therefore, if in a medical setting, the Machine Learning model being trained should not actually look at the data. \n",
    "\n",
    "Combining both Bob's and Alice's datasets, you should be able to create a bigger, better dataset that you could use to train your model with higher accuracy, only that you can't because it's all sensitive and private data, which is why you will need [PySyft](https://github.com/OpenMined/pysyft/) and [SyferText](https://github.com/OpenMined/SyferText/) to complete the job at hand."
   ]
  },
  {
   "cell_type": "markdown",
   "metadata": {},
   "source": [
    "## Data Exploration and Feature Engineering\n",
    "We will take advantage of this simulated dataset, since it is not a real-life scenario, we can and will be able to do data exploration to determine the best way to tackle the problem. "
   ]
  },
  {
   "cell_type": "markdown",
   "metadata": {},
   "source": [
    "## Importing libraries"
   ]
  },
  {
   "cell_type": "markdown",
   "metadata": {},
   "source": [
    "Verifying requirements and installing if missing. "
   ]
  },
  {
   "cell_type": "code",
   "execution_count": 1,
   "metadata": {
    "scrolled": true
   },
   "outputs": [
    {
     "name": "stdout",
     "output_type": "stream",
     "text": [
      "Requirement already satisfied: numpy in /home/carlos/anaconda3/envs/syft/lib/python3.7/site-packages (from -r ../requirements.txt (line 1)) (1.18.2)\n",
      "Requirement already satisfied: matplotlib==3.2.1 in /home/carlos/anaconda3/envs/syft/lib/python3.7/site-packages (from -r ../requirements.txt (line 2)) (3.2.1)\n",
      "Requirement already satisfied: seaborn==0.10.0 in /home/carlos/anaconda3/envs/syft/lib/python3.7/site-packages (from -r ../requirements.txt (line 3)) (0.10.0)\n",
      "Requirement already satisfied: sklearn==0.0 in /home/carlos/anaconda3/envs/syft/lib/python3.7/site-packages (from -r ../requirements.txt (line 4)) (0.0)\n",
      "Requirement already satisfied: tensorboard>=2.2.0 in /home/carlos/anaconda3/envs/syft/lib/python3.7/site-packages (from -r ../requirements.txt (line 5)) (2.2.2)\n",
      "Requirement already satisfied: tqdm in /home/carlos/anaconda3/envs/syft/lib/python3.7/site-packages/tqdm-4.36.1-py3.7.egg (from -r ../requirements.txt (line 6)) (4.36.1)\n",
      "Requirement already satisfied: syft==0.2.5 in /home/carlos/anaconda3/envs/syft/lib/python3.7/site-packages (from -r ../requirements.txt (line 7)) (0.2.5)\n",
      "Requirement already satisfied: python-dateutil>=2.1 in /home/carlos/anaconda3/envs/syft/lib/python3.7/site-packages (from matplotlib==3.2.1->-r ../requirements.txt (line 2)) (2.8.1)\n",
      "Requirement already satisfied: pyparsing!=2.0.4,!=2.1.2,!=2.1.6,>=2.0.1 in /home/carlos/anaconda3/envs/syft/lib/python3.7/site-packages (from matplotlib==3.2.1->-r ../requirements.txt (line 2)) (2.4.7)\n",
      "Requirement already satisfied: kiwisolver>=1.0.1 in /home/carlos/anaconda3/envs/syft/lib/python3.7/site-packages (from matplotlib==3.2.1->-r ../requirements.txt (line 2)) (1.2.0)\n",
      "Requirement already satisfied: cycler>=0.10 in /home/carlos/anaconda3/envs/syft/lib/python3.7/site-packages (from matplotlib==3.2.1->-r ../requirements.txt (line 2)) (0.10.0)\n",
      "Requirement already satisfied: scipy>=1.0.1 in /home/carlos/anaconda3/envs/syft/lib/python3.7/site-packages (from seaborn==0.10.0->-r ../requirements.txt (line 3)) (1.4.1)\n",
      "Requirement already satisfied: pandas>=0.22.0 in /home/carlos/anaconda3/envs/syft/lib/python3.7/site-packages (from seaborn==0.10.0->-r ../requirements.txt (line 3)) (1.0.5)\n",
      "Requirement already satisfied: scikit-learn in /home/carlos/anaconda3/envs/syft/lib/python3.7/site-packages (from sklearn==0.0->-r ../requirements.txt (line 4)) (0.23.1)\n",
      "Requirement already satisfied: six>=1.10.0 in /home/carlos/anaconda3/envs/syft/lib/python3.7/site-packages (from tensorboard>=2.2.0->-r ../requirements.txt (line 5)) (1.14.0)\n",
      "Requirement already satisfied: wheel>=0.26; python_version >= \"3\" in /home/carlos/anaconda3/envs/syft/lib/python3.7/site-packages (from tensorboard>=2.2.0->-r ../requirements.txt (line 5)) (0.34.2)\n",
      "Requirement already satisfied: tensorboard-plugin-wit>=1.6.0 in /home/carlos/anaconda3/envs/syft/lib/python3.7/site-packages (from tensorboard>=2.2.0->-r ../requirements.txt (line 5)) (1.7.0)\n",
      "Requirement already satisfied: google-auth<2,>=1.6.3 in /home/carlos/anaconda3/envs/syft/lib/python3.7/site-packages (from tensorboard>=2.2.0->-r ../requirements.txt (line 5)) (1.18.0)\n",
      "Requirement already satisfied: requests<3,>=2.21.0 in /home/carlos/anaconda3/envs/syft/lib/python3.7/site-packages (from tensorboard>=2.2.0->-r ../requirements.txt (line 5)) (2.22.0)\n",
      "Requirement already satisfied: google-auth-oauthlib<0.5,>=0.4.1 in /home/carlos/anaconda3/envs/syft/lib/python3.7/site-packages (from tensorboard>=2.2.0->-r ../requirements.txt (line 5)) (0.4.1)\n",
      "Requirement already satisfied: absl-py>=0.4 in /home/carlos/anaconda3/envs/syft/lib/python3.7/site-packages (from tensorboard>=2.2.0->-r ../requirements.txt (line 5)) (0.9.0)\n",
      "Requirement already satisfied: setuptools>=41.0.0 in /home/carlos/anaconda3/envs/syft/lib/python3.7/site-packages (from tensorboard>=2.2.0->-r ../requirements.txt (line 5)) (46.2.0.post20200511)\n",
      "Requirement already satisfied: grpcio>=1.24.3 in /home/carlos/anaconda3/envs/syft/lib/python3.7/site-packages (from tensorboard>=2.2.0->-r ../requirements.txt (line 5)) (1.29.0)\n",
      "Requirement already satisfied: protobuf>=3.6.0 in /home/carlos/anaconda3/envs/syft/lib/python3.7/site-packages (from tensorboard>=2.2.0->-r ../requirements.txt (line 5)) (3.12.0)\n",
      "Requirement already satisfied: markdown>=2.6.8 in /home/carlos/anaconda3/envs/syft/lib/python3.7/site-packages (from tensorboard>=2.2.0->-r ../requirements.txt (line 5)) (3.2.2)\n",
      "Requirement already satisfied: werkzeug>=0.11.15 in /home/carlos/anaconda3/envs/syft/lib/python3.7/site-packages (from tensorboard>=2.2.0->-r ../requirements.txt (line 5)) (1.0.1)\n",
      "Requirement already satisfied: websocket-client~=0.57.0 in /home/carlos/anaconda3/envs/syft/lib/python3.7/site-packages (from syft==0.2.5->-r ../requirements.txt (line 7)) (0.57.0)\n",
      "Requirement already satisfied: torchvision~=0.5.0 in /home/carlos/anaconda3/envs/syft/lib/python3.7/site-packages (from syft==0.2.5->-r ../requirements.txt (line 7)) (0.5.0)\n",
      "Requirement already satisfied: Flask~=1.1.1 in /home/carlos/anaconda3/envs/syft/lib/python3.7/site-packages (from syft==0.2.5->-r ../requirements.txt (line 7)) (1.1.2)\n",
      "Requirement already satisfied: torch~=1.4.0 in /home/carlos/anaconda3/envs/syft/lib/python3.7/site-packages (from syft==0.2.5->-r ../requirements.txt (line 7)) (1.4.0)\n",
      "Requirement already satisfied: msgpack~=1.0.0 in /home/carlos/anaconda3/envs/syft/lib/python3.7/site-packages (from syft==0.2.5->-r ../requirements.txt (line 7)) (1.0.0)\n",
      "Requirement already satisfied: flask-socketio~=4.2.1 in /home/carlos/anaconda3/envs/syft/lib/python3.7/site-packages (from syft==0.2.5->-r ../requirements.txt (line 7)) (4.2.1)\n",
      "Requirement already satisfied: Pillow~=6.2.2 in /home/carlos/anaconda3/envs/syft/lib/python3.7/site-packages (from syft==0.2.5->-r ../requirements.txt (line 7)) (6.2.2)\n",
      "Requirement already satisfied: tblib~=1.6.0 in /home/carlos/anaconda3/envs/syft/lib/python3.7/site-packages (from syft==0.2.5->-r ../requirements.txt (line 7)) (1.6.0)\n",
      "Requirement already satisfied: tornado==4.5.3 in /home/carlos/anaconda3/envs/syft/lib/python3.7/site-packages (from syft==0.2.5->-r ../requirements.txt (line 7)) (4.5.3)\n",
      "Requirement already satisfied: syft-proto~=0.4.1 in /home/carlos/anaconda3/envs/syft/lib/python3.7/site-packages (from syft==0.2.5->-r ../requirements.txt (line 7)) (0.4.4)\n",
      "Requirement already satisfied: websockets~=8.1.0 in /home/carlos/anaconda3/envs/syft/lib/python3.7/site-packages (from syft==0.2.5->-r ../requirements.txt (line 7)) (8.1)\n",
      "Requirement already satisfied: phe~=1.4.0 in /home/carlos/anaconda3/envs/syft/lib/python3.7/site-packages (from syft==0.2.5->-r ../requirements.txt (line 7)) (1.4.0)\n",
      "Requirement already satisfied: lz4~=3.0.2 in /home/carlos/anaconda3/envs/syft/lib/python3.7/site-packages (from syft==0.2.5->-r ../requirements.txt (line 7)) (3.0.2)\n",
      "Requirement already satisfied: pytz>=2017.2 in /home/carlos/anaconda3/envs/syft/lib/python3.7/site-packages (from pandas>=0.22.0->seaborn==0.10.0->-r ../requirements.txt (line 3)) (2020.1)\n",
      "Requirement already satisfied: joblib>=0.11 in /home/carlos/anaconda3/envs/syft/lib/python3.7/site-packages (from scikit-learn->sklearn==0.0->-r ../requirements.txt (line 4)) (0.15.1)\n",
      "Requirement already satisfied: threadpoolctl>=2.0.0 in /home/carlos/anaconda3/envs/syft/lib/python3.7/site-packages (from scikit-learn->sklearn==0.0->-r ../requirements.txt (line 4)) (2.1.0)\n",
      "Requirement already satisfied: rsa<5,>=3.1.4; python_version >= \"3\" in /home/carlos/anaconda3/envs/syft/lib/python3.7/site-packages (from google-auth<2,>=1.6.3->tensorboard>=2.2.0->-r ../requirements.txt (line 5)) (4.6)\n",
      "Requirement already satisfied: cachetools<5.0,>=2.0.0 in /home/carlos/anaconda3/envs/syft/lib/python3.7/site-packages (from google-auth<2,>=1.6.3->tensorboard>=2.2.0->-r ../requirements.txt (line 5)) (4.1.1)\n",
      "Requirement already satisfied: pyasn1-modules>=0.2.1 in /home/carlos/anaconda3/envs/syft/lib/python3.7/site-packages (from google-auth<2,>=1.6.3->tensorboard>=2.2.0->-r ../requirements.txt (line 5)) (0.2.8)\n",
      "Requirement already satisfied: chardet<3.1.0,>=3.0.2 in /home/carlos/anaconda3/envs/syft/lib/python3.7/site-packages (from requests<3,>=2.21.0->tensorboard>=2.2.0->-r ../requirements.txt (line 5)) (3.0.4)\n",
      "Requirement already satisfied: certifi>=2017.4.17 in /home/carlos/anaconda3/envs/syft/lib/python3.7/site-packages (from requests<3,>=2.21.0->tensorboard>=2.2.0->-r ../requirements.txt (line 5)) (2020.6.20)\n",
      "Requirement already satisfied: idna<2.9,>=2.5 in /home/carlos/anaconda3/envs/syft/lib/python3.7/site-packages (from requests<3,>=2.21.0->tensorboard>=2.2.0->-r ../requirements.txt (line 5)) (2.8)\n",
      "Requirement already satisfied: urllib3!=1.25.0,!=1.25.1,<1.26,>=1.21.1 in /home/carlos/anaconda3/envs/syft/lib/python3.7/site-packages (from requests<3,>=2.21.0->tensorboard>=2.2.0->-r ../requirements.txt (line 5)) (1.25.9)\n",
      "Requirement already satisfied: requests-oauthlib>=0.7.0 in /home/carlos/anaconda3/envs/syft/lib/python3.7/site-packages (from google-auth-oauthlib<0.5,>=0.4.1->tensorboard>=2.2.0->-r ../requirements.txt (line 5)) (1.3.0)\n",
      "Requirement already satisfied: importlib-metadata; python_version < \"3.8\" in /home/carlos/anaconda3/envs/syft/lib/python3.7/site-packages (from markdown>=2.6.8->tensorboard>=2.2.0->-r ../requirements.txt (line 5)) (1.5.0)\n",
      "Requirement already satisfied: itsdangerous>=0.24 in /home/carlos/anaconda3/envs/syft/lib/python3.7/site-packages (from Flask~=1.1.1->syft==0.2.5->-r ../requirements.txt (line 7)) (1.1.0)\n",
      "Requirement already satisfied: click>=5.1 in /home/carlos/anaconda3/envs/syft/lib/python3.7/site-packages (from Flask~=1.1.1->syft==0.2.5->-r ../requirements.txt (line 7)) (7.1.2)\n",
      "Requirement already satisfied: Jinja2>=2.10.1 in /home/carlos/anaconda3/envs/syft/lib/python3.7/site-packages (from Flask~=1.1.1->syft==0.2.5->-r ../requirements.txt (line 7)) (2.11.2)\n",
      "Requirement already satisfied: python-socketio>=4.3.0 in /home/carlos/anaconda3/envs/syft/lib/python3.7/site-packages (from flask-socketio~=4.2.1->syft==0.2.5->-r ../requirements.txt (line 7)) (4.5.1)\n"
     ]
    },
    {
     "name": "stdout",
     "output_type": "stream",
     "text": [
      "Requirement already satisfied: pyasn1>=0.1.3 in /home/carlos/anaconda3/envs/syft/lib/python3.7/site-packages (from rsa<5,>=3.1.4; python_version >= \"3\"->google-auth<2,>=1.6.3->tensorboard>=2.2.0->-r ../requirements.txt (line 5)) (0.4.8)\r\n",
      "Requirement already satisfied: oauthlib>=3.0.0 in /home/carlos/anaconda3/envs/syft/lib/python3.7/site-packages (from requests-oauthlib>=0.7.0->google-auth-oauthlib<0.5,>=0.4.1->tensorboard>=2.2.0->-r ../requirements.txt (line 5)) (3.1.0)\r\n",
      "Requirement already satisfied: zipp>=0.5 in /home/carlos/anaconda3/envs/syft/lib/python3.7/site-packages (from importlib-metadata; python_version < \"3.8\"->markdown>=2.6.8->tensorboard>=2.2.0->-r ../requirements.txt (line 5)) (3.1.0)\r\n",
      "Requirement already satisfied: MarkupSafe>=0.23 in /home/carlos/anaconda3/envs/syft/lib/python3.7/site-packages (from Jinja2>=2.10.1->Flask~=1.1.1->syft==0.2.5->-r ../requirements.txt (line 7)) (1.1.1)\r\n",
      "Requirement already satisfied: python-engineio>=3.9.0 in /home/carlos/anaconda3/envs/syft/lib/python3.7/site-packages (from python-socketio>=4.3.0->flask-socketio~=4.2.1->syft==0.2.5->-r ../requirements.txt (line 7)) (3.12.1)\r\n"
     ]
    }
   ],
   "source": [
    "!pip install -r ../requirements.txt"
   ]
  },
  {
   "cell_type": "markdown",
   "metadata": {},
   "source": [
    "## Data Exploration\n",
    "Assuming you have access to the the anonymized combined data, you can do a very high-level data exploration in order to design the text classifier for the job. "
   ]
  },
  {
   "cell_type": "code",
   "execution_count": 2,
   "metadata": {},
   "outputs": [],
   "source": [
    "# Reading dataset\n",
    "import pandas as pd # data processing, CSV file I/O (e.g. pd.read_csv)\n",
    "df_full = pd.read_csv('../data/mtsamples.csv', delimiter=',')\n",
    "df_full.dataframeName = 'mtsamples.csv'"
   ]
  },
  {
   "cell_type": "code",
   "execution_count": 3,
   "metadata": {},
   "outputs": [
    {
     "data": {
      "text/html": [
       "<div>\n",
       "<style scoped>\n",
       "    .dataframe tbody tr th:only-of-type {\n",
       "        vertical-align: middle;\n",
       "    }\n",
       "\n",
       "    .dataframe tbody tr th {\n",
       "        vertical-align: top;\n",
       "    }\n",
       "\n",
       "    .dataframe thead th {\n",
       "        text-align: right;\n",
       "    }\n",
       "</style>\n",
       "<table border=\"1\" class=\"dataframe\">\n",
       "  <thead>\n",
       "    <tr style=\"text-align: right;\">\n",
       "      <th></th>\n",
       "      <th>Unnamed: 0</th>\n",
       "      <th>description</th>\n",
       "      <th>medical_specialty</th>\n",
       "      <th>sample_name</th>\n",
       "      <th>transcription</th>\n",
       "      <th>keywords</th>\n",
       "    </tr>\n",
       "  </thead>\n",
       "  <tbody>\n",
       "    <tr>\n",
       "      <th>0</th>\n",
       "      <td>0</td>\n",
       "      <td>A 23-year-old white female presents with comp...</td>\n",
       "      <td>Allergy / Immunology</td>\n",
       "      <td>Allergic Rhinitis</td>\n",
       "      <td>SUBJECTIVE:,  This 23-year-old white female pr...</td>\n",
       "      <td>allergy / immunology, allergic rhinitis, aller...</td>\n",
       "    </tr>\n",
       "    <tr>\n",
       "      <th>1</th>\n",
       "      <td>1</td>\n",
       "      <td>Consult for laparoscopic gastric bypass.</td>\n",
       "      <td>Bariatrics</td>\n",
       "      <td>Laparoscopic Gastric Bypass Consult - 2</td>\n",
       "      <td>PAST MEDICAL HISTORY:, He has difficulty climb...</td>\n",
       "      <td>bariatrics, laparoscopic gastric bypass, weigh...</td>\n",
       "    </tr>\n",
       "    <tr>\n",
       "      <th>2</th>\n",
       "      <td>2</td>\n",
       "      <td>Consult for laparoscopic gastric bypass.</td>\n",
       "      <td>Bariatrics</td>\n",
       "      <td>Laparoscopic Gastric Bypass Consult - 1</td>\n",
       "      <td>HISTORY OF PRESENT ILLNESS: , I have seen ABC ...</td>\n",
       "      <td>bariatrics, laparoscopic gastric bypass, heart...</td>\n",
       "    </tr>\n",
       "    <tr>\n",
       "      <th>3</th>\n",
       "      <td>3</td>\n",
       "      <td>2-D M-Mode. Doppler.</td>\n",
       "      <td>Cardiovascular / Pulmonary</td>\n",
       "      <td>2-D Echocardiogram - 1</td>\n",
       "      <td>2-D M-MODE: , ,1.  Left atrial enlargement wit...</td>\n",
       "      <td>cardiovascular / pulmonary, 2-d m-mode, dopple...</td>\n",
       "    </tr>\n",
       "    <tr>\n",
       "      <th>4</th>\n",
       "      <td>4</td>\n",
       "      <td>2-D Echocardiogram</td>\n",
       "      <td>Cardiovascular / Pulmonary</td>\n",
       "      <td>2-D Echocardiogram - 2</td>\n",
       "      <td>1.  The left ventricular cavity size and wall ...</td>\n",
       "      <td>cardiovascular / pulmonary, 2-d, doppler, echo...</td>\n",
       "    </tr>\n",
       "  </tbody>\n",
       "</table>\n",
       "</div>"
      ],
      "text/plain": [
       "   Unnamed: 0                                        description  \\\n",
       "0           0   A 23-year-old white female presents with comp...   \n",
       "1           1           Consult for laparoscopic gastric bypass.   \n",
       "2           2           Consult for laparoscopic gastric bypass.   \n",
       "3           3                             2-D M-Mode. Doppler.     \n",
       "4           4                                 2-D Echocardiogram   \n",
       "\n",
       "             medical_specialty                                sample_name  \\\n",
       "0         Allergy / Immunology                         Allergic Rhinitis    \n",
       "1                   Bariatrics   Laparoscopic Gastric Bypass Consult - 2    \n",
       "2                   Bariatrics   Laparoscopic Gastric Bypass Consult - 1    \n",
       "3   Cardiovascular / Pulmonary                    2-D Echocardiogram - 1    \n",
       "4   Cardiovascular / Pulmonary                    2-D Echocardiogram - 2    \n",
       "\n",
       "                                       transcription  \\\n",
       "0  SUBJECTIVE:,  This 23-year-old white female pr...   \n",
       "1  PAST MEDICAL HISTORY:, He has difficulty climb...   \n",
       "2  HISTORY OF PRESENT ILLNESS: , I have seen ABC ...   \n",
       "3  2-D M-MODE: , ,1.  Left atrial enlargement wit...   \n",
       "4  1.  The left ventricular cavity size and wall ...   \n",
       "\n",
       "                                            keywords  \n",
       "0  allergy / immunology, allergic rhinitis, aller...  \n",
       "1  bariatrics, laparoscopic gastric bypass, weigh...  \n",
       "2  bariatrics, laparoscopic gastric bypass, heart...  \n",
       "3  cardiovascular / pulmonary, 2-d m-mode, dopple...  \n",
       "4  cardiovascular / pulmonary, 2-d, doppler, echo...  "
      ]
     },
     "execution_count": 3,
     "metadata": {},
     "output_type": "execute_result"
    }
   ],
   "source": [
    "# Taking a quick look at what the data looks like\n",
    "df_full.head()"
   ]
  },
  {
   "cell_type": "code",
   "execution_count": 4,
   "metadata": {},
   "outputs": [],
   "source": [
    "# We should drop any records with empty transcription text, since its  the main source of text we will work with\n",
    "#df = df['transcription'].dropna()\n",
    "\n",
    "df = df_full.dropna(subset=['transcription'])"
   ]
  },
  {
   "cell_type": "code",
   "execution_count": 5,
   "metadata": {},
   "outputs": [
    {
     "data": {
      "text/html": [
       "<div>\n",
       "<style scoped>\n",
       "    .dataframe tbody tr th:only-of-type {\n",
       "        vertical-align: middle;\n",
       "    }\n",
       "\n",
       "    .dataframe tbody tr th {\n",
       "        vertical-align: top;\n",
       "    }\n",
       "\n",
       "    .dataframe thead th {\n",
       "        text-align: right;\n",
       "    }\n",
       "</style>\n",
       "<table border=\"1\" class=\"dataframe\">\n",
       "  <thead>\n",
       "    <tr style=\"text-align: right;\">\n",
       "      <th></th>\n",
       "      <th>Unnamed: 0</th>\n",
       "      <th>description</th>\n",
       "      <th>medical_specialty</th>\n",
       "      <th>sample_name</th>\n",
       "      <th>transcription</th>\n",
       "      <th>keywords</th>\n",
       "    </tr>\n",
       "  </thead>\n",
       "  <tbody>\n",
       "    <tr>\n",
       "      <th>0</th>\n",
       "      <td>0</td>\n",
       "      <td>A 23-year-old white female presents with comp...</td>\n",
       "      <td>Allergy / Immunology</td>\n",
       "      <td>Allergic Rhinitis</td>\n",
       "      <td>SUBJECTIVE:,  This 23-year-old white female pr...</td>\n",
       "      <td>allergy / immunology, allergic rhinitis, aller...</td>\n",
       "    </tr>\n",
       "    <tr>\n",
       "      <th>1</th>\n",
       "      <td>1</td>\n",
       "      <td>Consult for laparoscopic gastric bypass.</td>\n",
       "      <td>Bariatrics</td>\n",
       "      <td>Laparoscopic Gastric Bypass Consult - 2</td>\n",
       "      <td>PAST MEDICAL HISTORY:, He has difficulty climb...</td>\n",
       "      <td>bariatrics, laparoscopic gastric bypass, weigh...</td>\n",
       "    </tr>\n",
       "    <tr>\n",
       "      <th>2</th>\n",
       "      <td>2</td>\n",
       "      <td>Consult for laparoscopic gastric bypass.</td>\n",
       "      <td>Bariatrics</td>\n",
       "      <td>Laparoscopic Gastric Bypass Consult - 1</td>\n",
       "      <td>HISTORY OF PRESENT ILLNESS: , I have seen ABC ...</td>\n",
       "      <td>bariatrics, laparoscopic gastric bypass, heart...</td>\n",
       "    </tr>\n",
       "    <tr>\n",
       "      <th>3</th>\n",
       "      <td>3</td>\n",
       "      <td>2-D M-Mode. Doppler.</td>\n",
       "      <td>Cardiovascular / Pulmonary</td>\n",
       "      <td>2-D Echocardiogram - 1</td>\n",
       "      <td>2-D M-MODE: , ,1.  Left atrial enlargement wit...</td>\n",
       "      <td>cardiovascular / pulmonary, 2-d m-mode, dopple...</td>\n",
       "    </tr>\n",
       "    <tr>\n",
       "      <th>4</th>\n",
       "      <td>4</td>\n",
       "      <td>2-D Echocardiogram</td>\n",
       "      <td>Cardiovascular / Pulmonary</td>\n",
       "      <td>2-D Echocardiogram - 2</td>\n",
       "      <td>1.  The left ventricular cavity size and wall ...</td>\n",
       "      <td>cardiovascular / pulmonary, 2-d, doppler, echo...</td>\n",
       "    </tr>\n",
       "    <tr>\n",
       "      <th>...</th>\n",
       "      <td>...</td>\n",
       "      <td>...</td>\n",
       "      <td>...</td>\n",
       "      <td>...</td>\n",
       "      <td>...</td>\n",
       "      <td>...</td>\n",
       "    </tr>\n",
       "    <tr>\n",
       "      <th>4994</th>\n",
       "      <td>4994</td>\n",
       "      <td>Patient having severe sinusitis about two to ...</td>\n",
       "      <td>Allergy / Immunology</td>\n",
       "      <td>Chronic Sinusitis</td>\n",
       "      <td>HISTORY:,  I had the pleasure of meeting and e...</td>\n",
       "      <td>NaN</td>\n",
       "    </tr>\n",
       "    <tr>\n",
       "      <th>4995</th>\n",
       "      <td>4995</td>\n",
       "      <td>This is a 14-month-old baby boy Caucasian who...</td>\n",
       "      <td>Allergy / Immunology</td>\n",
       "      <td>Kawasaki Disease - Discharge Summary</td>\n",
       "      <td>ADMITTING DIAGNOSIS: , Kawasaki disease.,DISCH...</td>\n",
       "      <td>allergy / immunology, mucous membranes, conjun...</td>\n",
       "    </tr>\n",
       "    <tr>\n",
       "      <th>4996</th>\n",
       "      <td>4996</td>\n",
       "      <td>A female for a complete physical and follow u...</td>\n",
       "      <td>Allergy / Immunology</td>\n",
       "      <td>Followup on Asthma</td>\n",
       "      <td>SUBJECTIVE: , This is a 42-year-old white fema...</td>\n",
       "      <td>NaN</td>\n",
       "    </tr>\n",
       "    <tr>\n",
       "      <th>4997</th>\n",
       "      <td>4997</td>\n",
       "      <td>Mother states he has been wheezing and coughing.</td>\n",
       "      <td>Allergy / Immunology</td>\n",
       "      <td>Asthma in a 5-year-old</td>\n",
       "      <td>CHIEF COMPLAINT: , This 5-year-old male presen...</td>\n",
       "      <td>NaN</td>\n",
       "    </tr>\n",
       "    <tr>\n",
       "      <th>4998</th>\n",
       "      <td>4998</td>\n",
       "      <td>Acute allergic reaction, etiology uncertain, ...</td>\n",
       "      <td>Allergy / Immunology</td>\n",
       "      <td>Allergy Evaluation Consult</td>\n",
       "      <td>HISTORY: , A 34-year-old male presents today s...</td>\n",
       "      <td>NaN</td>\n",
       "    </tr>\n",
       "  </tbody>\n",
       "</table>\n",
       "<p>4966 rows × 6 columns</p>\n",
       "</div>"
      ],
      "text/plain": [
       "      Unnamed: 0                                        description  \\\n",
       "0              0   A 23-year-old white female presents with comp...   \n",
       "1              1           Consult for laparoscopic gastric bypass.   \n",
       "2              2           Consult for laparoscopic gastric bypass.   \n",
       "3              3                             2-D M-Mode. Doppler.     \n",
       "4              4                                 2-D Echocardiogram   \n",
       "...          ...                                                ...   \n",
       "4994        4994   Patient having severe sinusitis about two to ...   \n",
       "4995        4995   This is a 14-month-old baby boy Caucasian who...   \n",
       "4996        4996   A female for a complete physical and follow u...   \n",
       "4997        4997   Mother states he has been wheezing and coughing.   \n",
       "4998        4998   Acute allergic reaction, etiology uncertain, ...   \n",
       "\n",
       "                medical_specialty                                sample_name  \\\n",
       "0            Allergy / Immunology                         Allergic Rhinitis    \n",
       "1                      Bariatrics   Laparoscopic Gastric Bypass Consult - 2    \n",
       "2                      Bariatrics   Laparoscopic Gastric Bypass Consult - 1    \n",
       "3      Cardiovascular / Pulmonary                    2-D Echocardiogram - 1    \n",
       "4      Cardiovascular / Pulmonary                    2-D Echocardiogram - 2    \n",
       "...                           ...                                        ...   \n",
       "4994         Allergy / Immunology                         Chronic Sinusitis    \n",
       "4995         Allergy / Immunology      Kawasaki Disease - Discharge Summary    \n",
       "4996         Allergy / Immunology                        Followup on Asthma    \n",
       "4997         Allergy / Immunology                    Asthma in a 5-year-old    \n",
       "4998         Allergy / Immunology                Allergy Evaluation Consult    \n",
       "\n",
       "                                          transcription  \\\n",
       "0     SUBJECTIVE:,  This 23-year-old white female pr...   \n",
       "1     PAST MEDICAL HISTORY:, He has difficulty climb...   \n",
       "2     HISTORY OF PRESENT ILLNESS: , I have seen ABC ...   \n",
       "3     2-D M-MODE: , ,1.  Left atrial enlargement wit...   \n",
       "4     1.  The left ventricular cavity size and wall ...   \n",
       "...                                                 ...   \n",
       "4994  HISTORY:,  I had the pleasure of meeting and e...   \n",
       "4995  ADMITTING DIAGNOSIS: , Kawasaki disease.,DISCH...   \n",
       "4996  SUBJECTIVE: , This is a 42-year-old white fema...   \n",
       "4997  CHIEF COMPLAINT: , This 5-year-old male presen...   \n",
       "4998  HISTORY: , A 34-year-old male presents today s...   \n",
       "\n",
       "                                               keywords  \n",
       "0     allergy / immunology, allergic rhinitis, aller...  \n",
       "1     bariatrics, laparoscopic gastric bypass, weigh...  \n",
       "2     bariatrics, laparoscopic gastric bypass, heart...  \n",
       "3     cardiovascular / pulmonary, 2-d m-mode, dopple...  \n",
       "4     cardiovascular / pulmonary, 2-d, doppler, echo...  \n",
       "...                                                 ...  \n",
       "4994                                                NaN  \n",
       "4995  allergy / immunology, mucous membranes, conjun...  \n",
       "4996                                                NaN  \n",
       "4997                                                NaN  \n",
       "4998                                                NaN  \n",
       "\n",
       "[4966 rows x 6 columns]"
      ]
     },
     "execution_count": 5,
     "metadata": {},
     "output_type": "execute_result"
    }
   ],
   "source": [
    "df"
   ]
  },
  {
   "cell_type": "markdown",
   "metadata": {},
   "source": [
    "Now we can start our exploration"
   ]
  },
  {
   "cell_type": "code",
   "execution_count": 6,
   "metadata": {},
   "outputs": [
    {
     "data": {
      "text/plain": [
       "array([' Allergy / Immunology', ' Bariatrics',\n",
       "       ' Cardiovascular / Pulmonary', ' Neurology', ' Dentistry',\n",
       "       ' Urology', ' General Medicine', ' Surgery', ' Speech - Language',\n",
       "       ' SOAP / Chart / Progress Notes', ' Sleep Medicine',\n",
       "       ' Rheumatology', ' Radiology', ' Psychiatry / Psychology',\n",
       "       ' Podiatry', ' Physical Medicine - Rehab',\n",
       "       ' Pediatrics - Neonatal', ' Pain Management', ' Orthopedic',\n",
       "       ' Ophthalmology', ' Office Notes', ' Obstetrics / Gynecology',\n",
       "       ' Neurosurgery', ' Nephrology', ' Letters',\n",
       "       ' Lab Medicine - Pathology', ' IME-QME-Work Comp etc.',\n",
       "       ' Hospice - Palliative Care', ' Hematology - Oncology',\n",
       "       ' Gastroenterology', ' ENT - Otolaryngology', ' Endocrinology',\n",
       "       ' Emergency Room Reports', ' Discharge Summary',\n",
       "       ' Diets and Nutritions', ' Dermatology',\n",
       "       ' Cosmetic / Plastic Surgery', ' Consult - History and Phy.',\n",
       "       ' Chiropractic', ' Autopsy'], dtype=object)"
      ]
     },
     "execution_count": 6,
     "metadata": {},
     "output_type": "execute_result"
    }
   ],
   "source": [
    "# Examine what the specialties are\n",
    "all_specialties = df['medical_specialty'].unique()\n",
    "all_specialties"
   ]
  },
  {
   "cell_type": "code",
   "execution_count": 7,
   "metadata": {},
   "outputs": [
    {
     "data": {
      "text/plain": [
       "40"
      ]
     },
     "execution_count": 7,
     "metadata": {},
     "output_type": "execute_result"
    }
   ],
   "source": [
    "# And how many different ones\n",
    "len(df['medical_specialty'].unique())"
   ]
  },
  {
   "cell_type": "code",
   "execution_count": 8,
   "metadata": {},
   "outputs": [
    {
     "data": {
      "text/plain": [
       " Surgery                          1088\n",
       " Consult - History and Phy.        516\n",
       " Cardiovascular / Pulmonary        371\n",
       " Orthopedic                        355\n",
       " Radiology                         273\n",
       " General Medicine                  259\n",
       " Gastroenterology                  224\n",
       " Neurology                         223\n",
       " SOAP / Chart / Progress Notes     166\n",
       " Urology                           156\n",
       " Obstetrics / Gynecology           155\n",
       " Discharge Summary                 108\n",
       " ENT - Otolaryngology               96\n",
       " Neurosurgery                       94\n",
       " Hematology - Oncology              90\n",
       " Ophthalmology                      83\n",
       " Nephrology                         81\n",
       " Emergency Room Reports             75\n",
       " Pediatrics - Neonatal              70\n",
       " Pain Management                    61\n",
       " Psychiatry / Psychology            53\n",
       " Office Notes                       50\n",
       " Podiatry                           47\n",
       " Dermatology                        29\n",
       " Dentistry                          27\n",
       " Cosmetic / Plastic Surgery         27\n",
       " Letters                            23\n",
       " Physical Medicine - Rehab          21\n",
       " Sleep Medicine                     20\n",
       " Endocrinology                      19\n",
       " Bariatrics                         18\n",
       " IME-QME-Work Comp etc.             16\n",
       " Chiropractic                       14\n",
       " Diets and Nutritions               10\n",
       " Rheumatology                       10\n",
       " Speech - Language                   9\n",
       " Autopsy                             8\n",
       " Lab Medicine - Pathology            8\n",
       " Allergy / Immunology                7\n",
       " Hospice - Palliative Care           6\n",
       "Name: medical_specialty, dtype: int64"
      ]
     },
     "execution_count": 8,
     "metadata": {},
     "output_type": "execute_result"
    }
   ],
   "source": [
    "df['medical_specialty'].value_counts()"
   ]
  },
  {
   "cell_type": "code",
   "execution_count": 9,
   "metadata": {},
   "outputs": [],
   "source": [
    "# Useful imports\n",
    "import matplotlib.pyplot as plt\n",
    "import seaborn as sb\n",
    "\n",
    "sb.set()"
   ]
  },
  {
   "cell_type": "code",
   "execution_count": 10,
   "metadata": {},
   "outputs": [
    {
     "data": {
      "image/png": "[encoded data removed]",
      "text/plain": [
       "<Figure size 432x288 with 1 Axes>"
      ]
     },
     "metadata": {},
     "output_type": "display_data"
    }
   ],
   "source": [
    "sb.distplot(df['medical_specialty'].value_counts());"
   ]
  },
  {
   "cell_type": "code",
   "execution_count": 11,
   "metadata": {},
   "outputs": [
    {
     "data": {
      "text/plain": [
       "3.484787862528456"
      ]
     },
     "execution_count": 11,
     "metadata": {},
     "output_type": "execute_result"
    }
   ],
   "source": [
    "df['medical_specialty'].value_counts().skew()"
   ]
  },
  {
   "cell_type": "code",
   "execution_count": 12,
   "metadata": {},
   "outputs": [
    {
     "data": {
      "text/plain": [
       "15.057632280038689"
      ]
     },
     "execution_count": 12,
     "metadata": {},
     "output_type": "execute_result"
    }
   ],
   "source": [
    "df['medical_specialty'].value_counts().kurt()"
   ]
  },
  {
   "cell_type": "markdown",
   "metadata": {},
   "source": [
    "We have positive skewness and kurtosis "
   ]
  },
  {
   "cell_type": "code",
   "execution_count": 13,
   "metadata": {},
   "outputs": [
    {
     "data": {
      "text/plain": [
       "<matplotlib.axes._subplots.AxesSubplot at 0x7f69c0893450>"
      ]
     },
     "execution_count": 13,
     "metadata": {},
     "output_type": "execute_result"
    },
    {
     "data": {
      "image/png": "[encoded data removed]",
      "text/plain": [
       "<Figure size 1080x1800 with 1 Axes>"
      ]
     },
     "metadata": {},
     "output_type": "display_data"
    }
   ],
   "source": [
    "df['medical_specialty'].value_counts()[:40].plot(kind='barh', figsize=(15,25), fontsize=16)\n"
   ]
  },
  {
   "cell_type": "code",
   "execution_count": 14,
   "metadata": {
    "scrolled": true
   },
   "outputs": [
    {
     "data": {
      "image/png": "[encoded data removed]",
      "text/plain": [
       "<Figure size 864x432 with 1 Axes>"
      ]
     },
     "metadata": {},
     "output_type": "display_data"
    }
   ],
   "source": [
    "# Display the top specialties most frequently repeated in the text\n",
    "fig, ax = plt.subplots(figsize = (12,6)) # set size of figure\n",
    "specialty = df['medical_specialty'].value_counts()\n",
    "specialty = specialty[:8,]\n",
    "g = sb.barplot(specialty.index, specialty.values, alpha=0.8)\n",
    "\n",
    "plt.title(\"Top 8 Specialties in Medical Transcriptions\")\n",
    "plt.ylabel(\"Frequency\", fontsize=12)\n",
    "plt.xlabel(\"Top 8 Specialties out of 40 total\", fontsize=14)\n",
    "\n",
    "g.set_xticklabels(g.get_xticklabels(), rotation=45)\n",
    "plt.show()"
   ]
  },
  {
   "cell_type": "markdown",
   "metadata": {},
   "source": [
    "## Feature Engineering\n",
    "We will first clean up the medical specialty column of first character whitespaces."
   ]
  },
  {
   "cell_type": "code",
   "execution_count": 15,
   "metadata": {},
   "outputs": [
    {
     "name": "stderr",
     "output_type": "stream",
     "text": [
      "/home/carlos/anaconda3/envs/syft/lib/python3.7/site-packages/ipykernel_launcher.py:2: SettingWithCopyWarning: \n",
      "A value is trying to be set on a copy of a slice from a DataFrame.\n",
      "Try using .loc[row_indexer,col_indexer] = value instead\n",
      "\n",
      "See the caveats in the documentation: https://pandas.pydata.org/pandas-docs/stable/user_guide/indexing.html#returning-a-view-versus-a-copy\n",
      "  \n"
     ]
    },
    {
     "data": {
      "text/html": [
       "<div>\n",
       "<style scoped>\n",
       "    .dataframe tbody tr th:only-of-type {\n",
       "        vertical-align: middle;\n",
       "    }\n",
       "\n",
       "    .dataframe tbody tr th {\n",
       "        vertical-align: top;\n",
       "    }\n",
       "\n",
       "    .dataframe thead th {\n",
       "        text-align: right;\n",
       "    }\n",
       "</style>\n",
       "<table border=\"1\" class=\"dataframe\">\n",
       "  <thead>\n",
       "    <tr style=\"text-align: right;\">\n",
       "      <th></th>\n",
       "      <th>Unnamed: 0</th>\n",
       "      <th>description</th>\n",
       "      <th>medical_specialty</th>\n",
       "      <th>sample_name</th>\n",
       "      <th>transcription</th>\n",
       "      <th>keywords</th>\n",
       "    </tr>\n",
       "  </thead>\n",
       "  <tbody>\n",
       "    <tr>\n",
       "      <th>0</th>\n",
       "      <td>0</td>\n",
       "      <td>A 23-year-old white female presents with comp...</td>\n",
       "      <td>Allergy / Immunology</td>\n",
       "      <td>Allergic Rhinitis</td>\n",
       "      <td>SUBJECTIVE:,  This 23-year-old white female pr...</td>\n",
       "      <td>allergy / immunology, allergic rhinitis, aller...</td>\n",
       "    </tr>\n",
       "    <tr>\n",
       "      <th>1</th>\n",
       "      <td>1</td>\n",
       "      <td>Consult for laparoscopic gastric bypass.</td>\n",
       "      <td>Bariatrics</td>\n",
       "      <td>Laparoscopic Gastric Bypass Consult - 2</td>\n",
       "      <td>PAST MEDICAL HISTORY:, He has difficulty climb...</td>\n",
       "      <td>bariatrics, laparoscopic gastric bypass, weigh...</td>\n",
       "    </tr>\n",
       "    <tr>\n",
       "      <th>2</th>\n",
       "      <td>2</td>\n",
       "      <td>Consult for laparoscopic gastric bypass.</td>\n",
       "      <td>Bariatrics</td>\n",
       "      <td>Laparoscopic Gastric Bypass Consult - 1</td>\n",
       "      <td>HISTORY OF PRESENT ILLNESS: , I have seen ABC ...</td>\n",
       "      <td>bariatrics, laparoscopic gastric bypass, heart...</td>\n",
       "    </tr>\n",
       "    <tr>\n",
       "      <th>3</th>\n",
       "      <td>3</td>\n",
       "      <td>2-D M-Mode. Doppler.</td>\n",
       "      <td>Cardiovascular / Pulmonary</td>\n",
       "      <td>2-D Echocardiogram - 1</td>\n",
       "      <td>2-D M-MODE: , ,1.  Left atrial enlargement wit...</td>\n",
       "      <td>cardiovascular / pulmonary, 2-d m-mode, dopple...</td>\n",
       "    </tr>\n",
       "    <tr>\n",
       "      <th>4</th>\n",
       "      <td>4</td>\n",
       "      <td>2-D Echocardiogram</td>\n",
       "      <td>Cardiovascular / Pulmonary</td>\n",
       "      <td>2-D Echocardiogram - 2</td>\n",
       "      <td>1.  The left ventricular cavity size and wall ...</td>\n",
       "      <td>cardiovascular / pulmonary, 2-d, doppler, echo...</td>\n",
       "    </tr>\n",
       "  </tbody>\n",
       "</table>\n",
       "</div>"
      ],
      "text/plain": [
       "   Unnamed: 0                                        description  \\\n",
       "0           0   A 23-year-old white female presents with comp...   \n",
       "1           1           Consult for laparoscopic gastric bypass.   \n",
       "2           2           Consult for laparoscopic gastric bypass.   \n",
       "3           3                             2-D M-Mode. Doppler.     \n",
       "4           4                                 2-D Echocardiogram   \n",
       "\n",
       "            medical_specialty                                sample_name  \\\n",
       "0        Allergy / Immunology                         Allergic Rhinitis    \n",
       "1                  Bariatrics   Laparoscopic Gastric Bypass Consult - 2    \n",
       "2                  Bariatrics   Laparoscopic Gastric Bypass Consult - 1    \n",
       "3  Cardiovascular / Pulmonary                    2-D Echocardiogram - 1    \n",
       "4  Cardiovascular / Pulmonary                    2-D Echocardiogram - 2    \n",
       "\n",
       "                                       transcription  \\\n",
       "0  SUBJECTIVE:,  This 23-year-old white female pr...   \n",
       "1  PAST MEDICAL HISTORY:, He has difficulty climb...   \n",
       "2  HISTORY OF PRESENT ILLNESS: , I have seen ABC ...   \n",
       "3  2-D M-MODE: , ,1.  Left atrial enlargement wit...   \n",
       "4  1.  The left ventricular cavity size and wall ...   \n",
       "\n",
       "                                            keywords  \n",
       "0  allergy / immunology, allergic rhinitis, aller...  \n",
       "1  bariatrics, laparoscopic gastric bypass, weigh...  \n",
       "2  bariatrics, laparoscopic gastric bypass, heart...  \n",
       "3  cardiovascular / pulmonary, 2-d m-mode, dopple...  \n",
       "4  cardiovascular / pulmonary, 2-d, doppler, echo...  "
      ]
     },
     "execution_count": 15,
     "metadata": {},
     "output_type": "execute_result"
    }
   ],
   "source": [
    "feature = 'medical_specialty'\n",
    "df[feature] = df[feature].str.replace(r'\\A ', '')\n",
    "df.head()"
   ]
  },
  {
   "cell_type": "markdown",
   "metadata": {},
   "source": [
    "## Dimensionality Reduction\n",
    "\n",
    "We now know we have too many possible labels. A good data set will have 4 or 5 labels and a lot more data points so we need to reduce the number of classes. Luckily, we can \"classify\" our classes using the [ultimate list of medical specialties](https://www.sgu.edu/blog/medical/ultimate-list-of-medical-specialties/) as a guide to reduce the number of classes. The downside is we will need to do some reading before we reconfigure our features."
   ]
  },
  {
   "cell_type": "markdown",
   "metadata": {},
   "source": [
    "Renaming some specialties to reduce categories, starting in the same order as the list."
   ]
  },
  {
   "cell_type": "code",
   "execution_count": 16,
   "metadata": {},
   "outputs": [
    {
     "name": "stdout",
     "output_type": "stream",
     "text": [
      "Reduced medical_specialty to 31 total classes\n"
     ]
    },
    {
     "name": "stderr",
     "output_type": "stream",
     "text": [
      "/home/carlos/anaconda3/envs/syft/lib/python3.7/site-packages/pandas/core/generic.py:8765: SettingWithCopyWarning: \n",
      "A value is trying to be set on a copy of a slice from a DataFrame\n",
      "\n",
      "See the caveats in the documentation: https://pandas.pydata.org/pandas-docs/stable/user_guide/indexing.html#returning-a-view-versus-a-copy\n",
      "  self._update_inplace(new_data)\n"
     ]
    }
   ],
   "source": [
    "# renaming specialties under Anesthesiology and Internal Medicine\n",
    "new_class = 'Internal Medicine'\n",
    "# Grouping all anesthesiology specialties\n",
    "df[feature].mask(df[feature] == 'Hospice - Palliative Care', new_class, inplace=True)\n",
    "df[feature].mask(df[feature] == 'Pain Management', new_class, inplace=True)\n",
    "df[feature].mask(df[feature] == 'Sleep Medicine', new_class, inplace=True)\n",
    "df[feature].mask(df[feature] == 'Endocrinology', new_class, inplace=True)\n",
    "df[feature].mask(df[feature] == 'Gastroenterology', new_class, inplace=True)\n",
    "df[feature].mask(df[feature] == 'Hematology - Oncology', new_class, inplace=True)\n",
    "df[feature].mask(df[feature] == 'Nephrology', new_class, inplace=True)\n",
    "df[feature].mask(df[feature] == 'Rheumatology', new_class, inplace=True)\n",
    "df[feature].mask(df[feature] == 'Cardiovascular / Pulmonary', new_class, inplace=True)\n",
    "# General medicine is also known as Internal Medicine\n",
    "df[feature].mask(df[feature] == 'General Medicine', new_class, inplace=True)\n",
    "\n",
    "print(\"Reduced\",feature,\"to\",len(df[feature].unique()),\"total classes\")"
   ]
  },
  {
   "cell_type": "code",
   "execution_count": 17,
   "metadata": {},
   "outputs": [
    {
     "name": "stdout",
     "output_type": "stream",
     "text": [
      "Reduced medical_specialty to 26 total classes\n"
     ]
    }
   ],
   "source": [
    "new_class = 'Surgery'\n",
    "# Grouping all surgery specialties\n",
    "df[feature].mask(df[feature] == 'Surgery', new_class, inplace=True)\n",
    "df[feature].mask(df[feature] == 'Cosmetic / Plastic Surgery', new_class, inplace=True)\n",
    "df[feature].mask(df[feature] == 'Neurosurgery', new_class, inplace=True)\n",
    "df[feature].mask(df[feature] == 'ENT - Otolaryngology', new_class, inplace=True)\n",
    "df[feature].mask(df[feature] == 'Obstetrics / Gynecology', new_class, inplace=True)\n",
    "df[feature].mask(df[feature] == 'Urology', new_class, inplace=True)\n",
    "\n",
    "print(\"Reduced\",feature,\"to\",len(df[feature].unique()),\"total classes\")"
   ]
  },
  {
   "cell_type": "code",
   "execution_count": 18,
   "metadata": {},
   "outputs": [
    {
     "name": "stdout",
     "output_type": "stream",
     "text": [
      "Reduced medical_specialty to 19 total classes\n"
     ]
    }
   ],
   "source": [
    "new_class = 'Medical Records'\n",
    "# Grouping all documents\n",
    "df[feature].mask(df[feature] == 'Consult - History and Phy.', new_class, inplace=True)\n",
    "df[feature].mask(df[feature] == 'Discharge Summary', new_class, inplace=True)\n",
    "df[feature].mask(df[feature] == 'Emergency Room Reports', new_class, inplace=True)\n",
    "df[feature].mask(df[feature] == 'IME-QME-Work Comp etc.', new_class, inplace=True)\n",
    "df[feature].mask(df[feature] == 'Letters', new_class, inplace=True)\n",
    "df[feature].mask(df[feature] == 'Office Notes', new_class, inplace=True)\n",
    "df[feature].mask(df[feature] == 'SOAP / Chart / Progress Notes', new_class, inplace=True)\n",
    "df[feature].mask(df[feature] == 'Radiology', new_class, inplace=True)\n",
    "\n",
    "print(\"Reduced\",feature,\"to\",len(df[feature].unique()),\"total classes\")"
   ]
  },
  {
   "cell_type": "code",
   "execution_count": 19,
   "metadata": {},
   "outputs": [
    {
     "name": "stdout",
     "output_type": "stream",
     "text": [
      "Reduced medical_specialty to 4 total classes\n"
     ]
    }
   ],
   "source": [
    "new_class = 'Other' \n",
    "# Grouping less popular specialties and specialties with the least data points\n",
    "df[feature].mask(df[feature] == 'Diets and Nutritions', new_class, inplace=True)\n",
    "df[feature].mask(df[feature] == 'Bariatrics', new_class, inplace=True)\n",
    "df[feature].mask(df[feature] == 'Dentistry', new_class, inplace=True)\n",
    "df[feature].mask(df[feature] == 'Ophthalmology', new_class, inplace=True)\n",
    "df[feature].mask(df[feature] == 'Pediatrics - Neonatal', new_class, inplace=True)\n",
    "df[feature].mask(df[feature] == 'Dermatology', new_class, inplace=True)\n",
    "df[feature].mask(df[feature] == 'Allergy / Immunology', new_class, inplace=True)\n",
    "df[feature].mask(df[feature] == 'Speech - Language', new_class, inplace=True)\n",
    "df[feature].mask(df[feature] == 'Psychiatry / Psychology', new_class, inplace=True)\n",
    "df[feature].mask(df[feature] == 'Autopsy', new_class, inplace=True)\n",
    "df[feature].mask(df[feature] == 'Lab Medicine - Pathology', new_class, inplace=True)\n",
    "df[feature].mask(df[feature] == 'Physical Medicine - Rehab', new_class, inplace=True)\n",
    "df[feature].mask(df[feature] == 'Orthopedic', new_class, inplace=True)\n",
    "df[feature].mask(df[feature] == 'Chiropractic', new_class, inplace=True)\n",
    "df[feature].mask(df[feature] == 'Podiatry', new_class, inplace=True)\n",
    "df[feature].mask(df[feature] == 'Neurology', new_class, inplace=True)\n",
    "\n",
    "print(\"Reduced\",feature,\"to\",len(df[feature].unique()),\"total classes\")"
   ]
  },
  {
   "cell_type": "code",
   "execution_count": 20,
   "metadata": {},
   "outputs": [
    {
     "data": {
      "text/plain": [
       "array(['Other', 'Internal Medicine', 'Surgery', 'Medical Records'],\n",
       "      dtype=object)"
      ]
     },
     "execution_count": 20,
     "metadata": {},
     "output_type": "execute_result"
    }
   ],
   "source": [
    "df['medical_specialty'].unique()"
   ]
  },
  {
   "cell_type": "code",
   "execution_count": 21,
   "metadata": {},
   "outputs": [
    {
     "data": {
      "image/png": "[encoded data removed]",
      "text/plain": [
       "<Figure size 1008x576 with 1 Axes>"
      ]
     },
     "metadata": {},
     "output_type": "display_data"
    }
   ],
   "source": [
    "# Display the consolidated 4 specialties most frequently repeated in the text\n",
    "fig, ax = plt.subplots(figsize = (14,8)) # set size of figure\n",
    "specialty = df['medical_specialty'].value_counts()\n",
    "specialty = specialty[::,]\n",
    "g = sb.barplot(specialty.index, specialty.values, alpha=0.8)\n",
    "\n",
    "# Calculate total classes\n",
    "total = str(len(df['medical_specialty'].unique()))\n",
    "plt.title(\"Top Specialties in Medical Transcriptions\")\n",
    "plt.ylabel(\"Frequency\", fontsize=12)\n",
    "\n",
    "x_label_str = \"Top Specialties out of \" + total +\" total\"\n",
    "plt.xlabel(x_label_str, fontsize=14)\n",
    "\n",
    "g.set_xticklabels(g.get_xticklabels(), rotation=45)\n",
    "\n",
    "plt.show()"
   ]
  },
  {
   "cell_type": "markdown",
   "metadata": {},
   "source": [
    "## Creating the Classes file\n",
    "First, we make a dictionary with the specialties as values and the chosen encodings as keys"
   ]
  },
  {
   "cell_type": "code",
   "execution_count": 22,
   "metadata": {},
   "outputs": [
    {
     "data": {
      "text/plain": [
       "{3: 'Internal Medicine', 2: 'Medical Records', 4: 'Other', 1: 'Surgery'}"
      ]
     },
     "execution_count": 22,
     "metadata": {},
     "output_type": "execute_result"
    }
   ],
   "source": [
    "keys = [3,2,4,1]\n",
    "values = sorted(df['medical_specialty'].unique())\n",
    "zipObj = zip(keys,values)\n",
    "classes_dict = dict(zipObj)\n",
    "classes_dict"
   ]
  },
  {
   "cell_type": "code",
   "execution_count": 23,
   "metadata": {},
   "outputs": [],
   "source": [
    "classes_dict = sorted(classes_dict.items())\n",
    "#sort_orders = sorted(orders.items(), key=lambda x: x[1], reverse=True)\n",
    "classes_dict = dict(classes_dict)"
   ]
  },
  {
   "cell_type": "markdown",
   "metadata": {},
   "source": [
    "Then we order by frequency and save the classes.txt file"
   ]
  },
  {
   "cell_type": "code",
   "execution_count": 24,
   "metadata": {},
   "outputs": [
    {
     "data": {
      "text/plain": [
       "{1: 'Surgery', 2: 'Medical Records', 3: 'Internal Medicine', 4: 'Other'}"
      ]
     },
     "execution_count": 24,
     "metadata": {},
     "output_type": "execute_result"
    }
   ],
   "source": [
    "classes_dict"
   ]
  },
  {
   "cell_type": "code",
   "execution_count": 25,
   "metadata": {},
   "outputs": [],
   "source": [
    "classes_file = open(\"../data/classes.txt\",\"w\") \n",
    "for i in classes_dict:\n",
    "    classes_file.write(classes_dict[i]) \n",
    "    classes_file.write(\"\\n\")\n",
    "\n",
    "classes_file.close()"
   ]
  },
  {
   "cell_type": "markdown",
   "metadata": {},
   "source": [
    "## Consolidating standardized dataset\n",
    "First, we make a copy of the current dataframe. Then, we add the `keywords` column to the `transcription` column,  and lastly, we substitute the labels with their encodings and save the final files."
   ]
  },
  {
   "cell_type": "code",
   "execution_count": 26,
   "metadata": {},
   "outputs": [
    {
     "data": {
      "text/html": [
       "<div>\n",
       "<style scoped>\n",
       "    .dataframe tbody tr th:only-of-type {\n",
       "        vertical-align: middle;\n",
       "    }\n",
       "\n",
       "    .dataframe tbody tr th {\n",
       "        vertical-align: top;\n",
       "    }\n",
       "\n",
       "    .dataframe thead th {\n",
       "        text-align: right;\n",
       "    }\n",
       "</style>\n",
       "<table border=\"1\" class=\"dataframe\">\n",
       "  <thead>\n",
       "    <tr style=\"text-align: right;\">\n",
       "      <th></th>\n",
       "      <th>medical_specialty</th>\n",
       "      <th>sample_name</th>\n",
       "      <th>transcription</th>\n",
       "      <th>keywords</th>\n",
       "    </tr>\n",
       "  </thead>\n",
       "  <tbody>\n",
       "    <tr>\n",
       "      <th>0</th>\n",
       "      <td>Other</td>\n",
       "      <td>Allergic Rhinitis</td>\n",
       "      <td>SUBJECTIVE:,  This 23-year-old white female pr...</td>\n",
       "      <td>allergy / immunology, allergic rhinitis, aller...</td>\n",
       "    </tr>\n",
       "    <tr>\n",
       "      <th>1</th>\n",
       "      <td>Other</td>\n",
       "      <td>Laparoscopic Gastric Bypass Consult - 2</td>\n",
       "      <td>PAST MEDICAL HISTORY:, He has difficulty climb...</td>\n",
       "      <td>bariatrics, laparoscopic gastric bypass, weigh...</td>\n",
       "    </tr>\n",
       "    <tr>\n",
       "      <th>2</th>\n",
       "      <td>Other</td>\n",
       "      <td>Laparoscopic Gastric Bypass Consult - 1</td>\n",
       "      <td>HISTORY OF PRESENT ILLNESS: , I have seen ABC ...</td>\n",
       "      <td>bariatrics, laparoscopic gastric bypass, heart...</td>\n",
       "    </tr>\n",
       "    <tr>\n",
       "      <th>3</th>\n",
       "      <td>Internal Medicine</td>\n",
       "      <td>2-D Echocardiogram - 1</td>\n",
       "      <td>2-D M-MODE: , ,1.  Left atrial enlargement wit...</td>\n",
       "      <td>cardiovascular / pulmonary, 2-d m-mode, dopple...</td>\n",
       "    </tr>\n",
       "    <tr>\n",
       "      <th>4</th>\n",
       "      <td>Internal Medicine</td>\n",
       "      <td>2-D Echocardiogram - 2</td>\n",
       "      <td>1.  The left ventricular cavity size and wall ...</td>\n",
       "      <td>cardiovascular / pulmonary, 2-d, doppler, echo...</td>\n",
       "    </tr>\n",
       "  </tbody>\n",
       "</table>\n",
       "</div>"
      ],
      "text/plain": [
       "   medical_specialty                                sample_name  \\\n",
       "0              Other                         Allergic Rhinitis    \n",
       "1              Other   Laparoscopic Gastric Bypass Consult - 2    \n",
       "2              Other   Laparoscopic Gastric Bypass Consult - 1    \n",
       "3  Internal Medicine                    2-D Echocardiogram - 1    \n",
       "4  Internal Medicine                    2-D Echocardiogram - 2    \n",
       "\n",
       "                                       transcription  \\\n",
       "0  SUBJECTIVE:,  This 23-year-old white female pr...   \n",
       "1  PAST MEDICAL HISTORY:, He has difficulty climb...   \n",
       "2  HISTORY OF PRESENT ILLNESS: , I have seen ABC ...   \n",
       "3  2-D M-MODE: , ,1.  Left atrial enlargement wit...   \n",
       "4  1.  The left ventricular cavity size and wall ...   \n",
       "\n",
       "                                            keywords  \n",
       "0  allergy / immunology, allergic rhinitis, aller...  \n",
       "1  bariatrics, laparoscopic gastric bypass, weigh...  \n",
       "2  bariatrics, laparoscopic gastric bypass, heart...  \n",
       "3  cardiovascular / pulmonary, 2-d m-mode, dopple...  \n",
       "4  cardiovascular / pulmonary, 2-d, doppler, echo...  "
      ]
     },
     "execution_count": 26,
     "metadata": {},
     "output_type": "execute_result"
    }
   ],
   "source": [
    "# Choosing features (columns)\n",
    "features = ['medical_specialty','sample_name','transcription','keywords']\n",
    "\n",
    "# X is the standard training  data variable name \n",
    "X = df[features]\n",
    "X.head()"
   ]
  },
  {
   "cell_type": "code",
   "execution_count": 27,
   "metadata": {},
   "outputs": [
    {
     "name": "stderr",
     "output_type": "stream",
     "text": [
      "/home/carlos/anaconda3/envs/syft/lib/python3.7/site-packages/ipykernel_launcher.py:2: SettingWithCopyWarning: \n",
      "A value is trying to be set on a copy of a slice from a DataFrame.\n",
      "Try using .loc[row_indexer,col_indexer] = value instead\n",
      "\n",
      "See the caveats in the documentation: https://pandas.pydata.org/pandas-docs/stable/user_guide/indexing.html#returning-a-view-versus-a-copy\n",
      "  \n"
     ]
    },
    {
     "data": {
      "text/html": [
       "<div>\n",
       "<style scoped>\n",
       "    .dataframe tbody tr th:only-of-type {\n",
       "        vertical-align: middle;\n",
       "    }\n",
       "\n",
       "    .dataframe tbody tr th {\n",
       "        vertical-align: top;\n",
       "    }\n",
       "\n",
       "    .dataframe thead th {\n",
       "        text-align: right;\n",
       "    }\n",
       "</style>\n",
       "<table border=\"1\" class=\"dataframe\">\n",
       "  <thead>\n",
       "    <tr style=\"text-align: right;\">\n",
       "      <th></th>\n",
       "      <th>medical_specialty</th>\n",
       "      <th>sample_name</th>\n",
       "      <th>transcription</th>\n",
       "      <th>keywords</th>\n",
       "      <th>text</th>\n",
       "    </tr>\n",
       "  </thead>\n",
       "  <tbody>\n",
       "    <tr>\n",
       "      <th>0</th>\n",
       "      <td>Other</td>\n",
       "      <td>Allergic Rhinitis</td>\n",
       "      <td>SUBJECTIVE:,  This 23-year-old white female pr...</td>\n",
       "      <td>allergy / immunology, allergic rhinitis, aller...</td>\n",
       "      <td>SUBJECTIVE:,  This 23-year-old white female pr...</td>\n",
       "    </tr>\n",
       "    <tr>\n",
       "      <th>1</th>\n",
       "      <td>Other</td>\n",
       "      <td>Laparoscopic Gastric Bypass Consult - 2</td>\n",
       "      <td>PAST MEDICAL HISTORY:, He has difficulty climb...</td>\n",
       "      <td>bariatrics, laparoscopic gastric bypass, weigh...</td>\n",
       "      <td>PAST MEDICAL HISTORY:, He has difficulty climb...</td>\n",
       "    </tr>\n",
       "    <tr>\n",
       "      <th>2</th>\n",
       "      <td>Other</td>\n",
       "      <td>Laparoscopic Gastric Bypass Consult - 1</td>\n",
       "      <td>HISTORY OF PRESENT ILLNESS: , I have seen ABC ...</td>\n",
       "      <td>bariatrics, laparoscopic gastric bypass, heart...</td>\n",
       "      <td>HISTORY OF PRESENT ILLNESS: , I have seen ABC ...</td>\n",
       "    </tr>\n",
       "    <tr>\n",
       "      <th>3</th>\n",
       "      <td>Internal Medicine</td>\n",
       "      <td>2-D Echocardiogram - 1</td>\n",
       "      <td>2-D M-MODE: , ,1.  Left atrial enlargement wit...</td>\n",
       "      <td>cardiovascular / pulmonary, 2-d m-mode, dopple...</td>\n",
       "      <td>2-D M-MODE: , ,1.  Left atrial enlargement wit...</td>\n",
       "    </tr>\n",
       "    <tr>\n",
       "      <th>4</th>\n",
       "      <td>Internal Medicine</td>\n",
       "      <td>2-D Echocardiogram - 2</td>\n",
       "      <td>1.  The left ventricular cavity size and wall ...</td>\n",
       "      <td>cardiovascular / pulmonary, 2-d, doppler, echo...</td>\n",
       "      <td>1.  The left ventricular cavity size and wall ...</td>\n",
       "    </tr>\n",
       "  </tbody>\n",
       "</table>\n",
       "</div>"
      ],
      "text/plain": [
       "   medical_specialty                                sample_name  \\\n",
       "0              Other                         Allergic Rhinitis    \n",
       "1              Other   Laparoscopic Gastric Bypass Consult - 2    \n",
       "2              Other   Laparoscopic Gastric Bypass Consult - 1    \n",
       "3  Internal Medicine                    2-D Echocardiogram - 1    \n",
       "4  Internal Medicine                    2-D Echocardiogram - 2    \n",
       "\n",
       "                                       transcription  \\\n",
       "0  SUBJECTIVE:,  This 23-year-old white female pr...   \n",
       "1  PAST MEDICAL HISTORY:, He has difficulty climb...   \n",
       "2  HISTORY OF PRESENT ILLNESS: , I have seen ABC ...   \n",
       "3  2-D M-MODE: , ,1.  Left atrial enlargement wit...   \n",
       "4  1.  The left ventricular cavity size and wall ...   \n",
       "\n",
       "                                            keywords  \\\n",
       "0  allergy / immunology, allergic rhinitis, aller...   \n",
       "1  bariatrics, laparoscopic gastric bypass, weigh...   \n",
       "2  bariatrics, laparoscopic gastric bypass, heart...   \n",
       "3  cardiovascular / pulmonary, 2-d m-mode, dopple...   \n",
       "4  cardiovascular / pulmonary, 2-d, doppler, echo...   \n",
       "\n",
       "                                                text  \n",
       "0  SUBJECTIVE:,  This 23-year-old white female pr...  \n",
       "1  PAST MEDICAL HISTORY:, He has difficulty climb...  \n",
       "2  HISTORY OF PRESENT ILLNESS: , I have seen ABC ...  \n",
       "3  2-D M-MODE: , ,1.  Left atrial enlargement wit...  \n",
       "4  1.  The left ventricular cavity size and wall ...  "
      ]
     },
     "execution_count": 27,
     "metadata": {},
     "output_type": "execute_result"
    }
   ],
   "source": [
    "# Merging columns\n",
    "X['text'] = X['transcription'] + X['keywords']\n",
    "\n",
    "# Verifying our operation\n",
    "X.head()"
   ]
  },
  {
   "cell_type": "code",
   "execution_count": 28,
   "metadata": {},
   "outputs": [
    {
     "data": {
      "text/html": [
       "<div>\n",
       "<style scoped>\n",
       "    .dataframe tbody tr th:only-of-type {\n",
       "        vertical-align: middle;\n",
       "    }\n",
       "\n",
       "    .dataframe tbody tr th {\n",
       "        vertical-align: top;\n",
       "    }\n",
       "\n",
       "    .dataframe thead th {\n",
       "        text-align: right;\n",
       "    }\n",
       "</style>\n",
       "<table border=\"1\" class=\"dataframe\">\n",
       "  <thead>\n",
       "    <tr style=\"text-align: right;\">\n",
       "      <th></th>\n",
       "      <th>medical_specialty</th>\n",
       "      <th>sample_name</th>\n",
       "      <th>text</th>\n",
       "    </tr>\n",
       "  </thead>\n",
       "  <tbody>\n",
       "    <tr>\n",
       "      <th>0</th>\n",
       "      <td>Other</td>\n",
       "      <td>Allergic Rhinitis</td>\n",
       "      <td>SUBJECTIVE:,  This 23-year-old white female pr...</td>\n",
       "    </tr>\n",
       "    <tr>\n",
       "      <th>1</th>\n",
       "      <td>Other</td>\n",
       "      <td>Laparoscopic Gastric Bypass Consult - 2</td>\n",
       "      <td>PAST MEDICAL HISTORY:, He has difficulty climb...</td>\n",
       "    </tr>\n",
       "    <tr>\n",
       "      <th>2</th>\n",
       "      <td>Other</td>\n",
       "      <td>Laparoscopic Gastric Bypass Consult - 1</td>\n",
       "      <td>HISTORY OF PRESENT ILLNESS: , I have seen ABC ...</td>\n",
       "    </tr>\n",
       "    <tr>\n",
       "      <th>3</th>\n",
       "      <td>Internal Medicine</td>\n",
       "      <td>2-D Echocardiogram - 1</td>\n",
       "      <td>2-D M-MODE: , ,1.  Left atrial enlargement wit...</td>\n",
       "    </tr>\n",
       "    <tr>\n",
       "      <th>4</th>\n",
       "      <td>Internal Medicine</td>\n",
       "      <td>2-D Echocardiogram - 2</td>\n",
       "      <td>1.  The left ventricular cavity size and wall ...</td>\n",
       "    </tr>\n",
       "  </tbody>\n",
       "</table>\n",
       "</div>"
      ],
      "text/plain": [
       "   medical_specialty                                sample_name  \\\n",
       "0              Other                         Allergic Rhinitis    \n",
       "1              Other   Laparoscopic Gastric Bypass Consult - 2    \n",
       "2              Other   Laparoscopic Gastric Bypass Consult - 1    \n",
       "3  Internal Medicine                    2-D Echocardiogram - 1    \n",
       "4  Internal Medicine                    2-D Echocardiogram - 2    \n",
       "\n",
       "                                                text  \n",
       "0  SUBJECTIVE:,  This 23-year-old white female pr...  \n",
       "1  PAST MEDICAL HISTORY:, He has difficulty climb...  \n",
       "2  HISTORY OF PRESENT ILLNESS: , I have seen ABC ...  \n",
       "3  2-D M-MODE: , ,1.  Left atrial enlargement wit...  \n",
       "4  1.  The left ventricular cavity size and wall ...  "
      ]
     },
     "execution_count": 28,
     "metadata": {},
     "output_type": "execute_result"
    }
   ],
   "source": [
    "# Then we will drop the original columns\n",
    "X = X.drop(['transcription', 'keywords'], axis=1)\n",
    "\n",
    "# Verifying\n",
    "X.head()"
   ]
  },
  {
   "cell_type": "code",
   "execution_count": 29,
   "metadata": {},
   "outputs": [],
   "source": [
    "# Replacing labels by their numeric encodings\n",
    "# add for loop\n",
    "for key in classes_dict.keys():\n",
    "    X.loc[(X['medical_specialty'] == classes_dict[key]),'medical_specialty']=key"
   ]
  },
  {
   "cell_type": "code",
   "execution_count": 30,
   "metadata": {},
   "outputs": [
    {
     "data": {
      "text/html": [
       "<div>\n",
       "<style scoped>\n",
       "    .dataframe tbody tr th:only-of-type {\n",
       "        vertical-align: middle;\n",
       "    }\n",
       "\n",
       "    .dataframe tbody tr th {\n",
       "        vertical-align: top;\n",
       "    }\n",
       "\n",
       "    .dataframe thead th {\n",
       "        text-align: right;\n",
       "    }\n",
       "</style>\n",
       "<table border=\"1\" class=\"dataframe\">\n",
       "  <thead>\n",
       "    <tr style=\"text-align: right;\">\n",
       "      <th></th>\n",
       "      <th>medical_specialty</th>\n",
       "      <th>sample_name</th>\n",
       "      <th>text</th>\n",
       "    </tr>\n",
       "  </thead>\n",
       "  <tbody>\n",
       "    <tr>\n",
       "      <th>0</th>\n",
       "      <td>4</td>\n",
       "      <td>Allergic Rhinitis</td>\n",
       "      <td>SUBJECTIVE:,  This 23-year-old white female pr...</td>\n",
       "    </tr>\n",
       "    <tr>\n",
       "      <th>1</th>\n",
       "      <td>4</td>\n",
       "      <td>Laparoscopic Gastric Bypass Consult - 2</td>\n",
       "      <td>PAST MEDICAL HISTORY:, He has difficulty climb...</td>\n",
       "    </tr>\n",
       "    <tr>\n",
       "      <th>2</th>\n",
       "      <td>4</td>\n",
       "      <td>Laparoscopic Gastric Bypass Consult - 1</td>\n",
       "      <td>HISTORY OF PRESENT ILLNESS: , I have seen ABC ...</td>\n",
       "    </tr>\n",
       "    <tr>\n",
       "      <th>3</th>\n",
       "      <td>3</td>\n",
       "      <td>2-D Echocardiogram - 1</td>\n",
       "      <td>2-D M-MODE: , ,1.  Left atrial enlargement wit...</td>\n",
       "    </tr>\n",
       "    <tr>\n",
       "      <th>4</th>\n",
       "      <td>3</td>\n",
       "      <td>2-D Echocardiogram - 2</td>\n",
       "      <td>1.  The left ventricular cavity size and wall ...</td>\n",
       "    </tr>\n",
       "  </tbody>\n",
       "</table>\n",
       "</div>"
      ],
      "text/plain": [
       "  medical_specialty                                sample_name  \\\n",
       "0                 4                         Allergic Rhinitis    \n",
       "1                 4   Laparoscopic Gastric Bypass Consult - 2    \n",
       "2                 4   Laparoscopic Gastric Bypass Consult - 1    \n",
       "3                 3                    2-D Echocardiogram - 1    \n",
       "4                 3                    2-D Echocardiogram - 2    \n",
       "\n",
       "                                                text  \n",
       "0  SUBJECTIVE:,  This 23-year-old white female pr...  \n",
       "1  PAST MEDICAL HISTORY:, He has difficulty climb...  \n",
       "2  HISTORY OF PRESENT ILLNESS: , I have seen ABC ...  \n",
       "3  2-D M-MODE: , ,1.  Left atrial enlargement wit...  \n",
       "4  1.  The left ventricular cavity size and wall ...  "
      ]
     },
     "execution_count": 30,
     "metadata": {},
     "output_type": "execute_result"
    }
   ],
   "source": [
    "# Verifying it worked\n",
    "X.head()"
   ]
  },
  {
   "cell_type": "markdown",
   "metadata": {},
   "source": [
    "Saving the full new dataframe into a Comma Separated Values (*.csv) file"
   ]
  },
  {
   "cell_type": "code",
   "execution_count": 31,
   "metadata": {},
   "outputs": [],
   "source": [
    "X.to_csv('../data/X.csv', index = False)"
   ]
  },
  {
   "cell_type": "markdown",
   "metadata": {},
   "source": [
    "Lastly, we split the dataset into training and test datasets using sklearn's `train_test_split` at a 90/10 rate and we save the final files."
   ]
  },
  {
   "cell_type": "code",
   "execution_count": 32,
   "metadata": {},
   "outputs": [],
   "source": [
    "# importing sklearn's train_test_split\n",
    "from sklearn.model_selection import train_test_split\n",
    "\n",
    "# Generating the 90/10 split \n",
    "X_train, X_test = train_test_split(X, test_size=0.1)\n",
    "\n",
    "# And saving the train and test subsets into csv files\n",
    "X_train.to_csv('../data/train.csv', index = False)\n",
    "X_test.to_csv('../data/test.csv', index = False)"
   ]
  }
 ],
 "metadata": {
  "kernelspec": {
   "display_name": "Python 3",
   "language": "python",
   "name": "python3"
  },
  "language_info": {
   "codemirror_mode": {
    "name": "ipython",
    "version": 3
   },
   "file_extension": ".py",
   "mimetype": "text/x-python",
   "name": "python",
   "nbconvert_exporter": "python",
   "pygments_lexer": "ipython3",
   "version": "3.7.7"
  }
 },
 "nbformat": 4,
 "nbformat_minor": 4
}
